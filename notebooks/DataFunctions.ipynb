{
 "cells": [
  {
   "cell_type": "code",
   "execution_count": 1,
   "metadata": {},
   "outputs": [],
   "source": [
    "import sys\n",
    "sys.path.append('../src')\n",
    "from footmav.data_definitions.base import DataAttribute, FloatDataAttribute\n",
    "from footmav.data_definitions.derived import  DerivedDataAttribute\n",
    "from foo\n",
    "from footmav.data_definitions.data_sources import DataSource\n",
    "from footmav.data_definitions import attribute_functions as F"
   ]
  },
  {
   "cell_type": "code",
   "execution_count": 2,
   "metadata": {},
   "outputs": [],
   "source": [
    "GOALS = FloatDataAttribute('goals', source=DataSource.FBREF)\n",
    "MINUTES = FloatDataAttribute('minutes',  source=DataSource.FBREF)\n",
    "\n",
    "componund = F.Sum((F.Col(GOALS)/F.Col(MINUTES)*F.Lit(90)))"
   ]
  },
  {
   "cell_type": "code",
   "execution_count": 3,
   "metadata": {},
   "outputs": [
    {
     "data": {
      "text/plain": [
       "<footmav.data_definitions.function_builder.FunctionBuilder at 0x25f601b2400>"
      ]
     },
     "execution_count": 3,
     "metadata": {},
     "output_type": "execute_result"
    }
   ],
   "source": [
    "F.Sum(GOALS)"
   ]
  },
  {
   "cell_type": "code",
   "execution_count": 4,
   "metadata": {},
   "outputs": [
    {
     "data": {
      "text/plain": [
       "<function footmav.data_definitions.attribute_functions.attribute_function_operator.<locals>._wrapper(*args) -> footmav.data_definitions.function_builder.FunctionBuilder>"
      ]
     },
     "execution_count": 4,
     "metadata": {},
     "output_type": "execute_result"
    }
   ],
   "source": [
    "F.Sum"
   ]
  },
  {
   "cell_type": "code",
   "execution_count": 5,
   "metadata": {},
   "outputs": [],
   "source": [
    "import pandas as pd\n",
    "\n",
    "df = pd.DataFrame({'goals': [1, 2, 3], 'minutes': [1100, 2100, 2300]})"
   ]
  },
  {
   "cell_type": "code",
   "execution_count": 6,
   "metadata": {},
   "outputs": [
    {
     "data": {
      "text/plain": [
       "0.2849237718802936"
      ]
     },
     "execution_count": 6,
     "metadata": {},
     "output_type": "execute_result"
    }
   ],
   "source": [
    "componund.apply(df)"
   ]
  }
 ],
 "metadata": {
  "interpreter": {
   "hash": "1f9ec6d0791e881116d7091387aaec0bd8dca9b6c9b2feb4d2a55233036da571"
  },
  "kernelspec": {
   "display_name": "Python 3.8.5 64-bit ('env': venv)",
   "language": "python",
   "name": "python3"
  },
  "language_info": {
   "codemirror_mode": {
    "name": "ipython",
    "version": 3
   },
   "file_extension": ".py",
   "mimetype": "text/x-python",
   "name": "python",
   "nbconvert_exporter": "python",
   "pygments_lexer": "ipython3",
   "version": "3.8.10"
  },
  "orig_nbformat": 4
 },
 "nbformat": 4,
 "nbformat_minor": 2
}
